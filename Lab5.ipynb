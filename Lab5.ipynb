{
  "nbformat": 4,
  "nbformat_minor": 0,
  "metadata": {
    "colab": {
      "name": "Lab5.ipynb",
      "provenance": [],
      "authorship_tag": "ABX9TyP/MulRoX131J+Ej7wUIE1S",
      "include_colab_link": true
    },
    "kernelspec": {
      "name": "python3",
      "display_name": "Python 3"
    },
    "language_info": {
      "name": "python"
    }
  },
  "cells": [
    {
      "cell_type": "markdown",
      "metadata": {
        "id": "view-in-github",
        "colab_type": "text"
      },
      "source": [
        "<a href=\"https://colab.research.google.com/github/najwamaziyyah/python/blob/main/Lab5.ipynb\" target=\"_parent\"><img src=\"https://colab.research.google.com/assets/colab-badge.svg\" alt=\"Open In Colab\"/></a>"
      ]
    },
    {
      "cell_type": "code",
      "metadata": {
        "colab": {
          "base_uri": "https://localhost:8080/"
        },
        "id": "QRaLMdd0LKe0",
        "outputId": "c848957a-508a-4f43-ef30-dc56370925a2"
      },
      "source": [
        "#check palindrome or not\n",
        "def checkpal (strlist):\n",
        "  for x in strlist:\n",
        "    if x==x[::-1]:\n",
        "      print(x,\": YES\")\n",
        "      \n",
        "    else:\n",
        "      print(x,\": NO\")\n",
        "     \n",
        "    \n",
        "\n",
        "list1=[\"madam\",\"katak\",\"cat\",\"rabbit\",\"bob\",\"naruto\"]\n",
        "checkpal(list1)"
      ],
      "execution_count": 8,
      "outputs": [
        {
          "output_type": "stream",
          "text": [
            "madam : YES\n",
            "katak : YES\n",
            "cat : NO\n",
            "rabbit : NO\n",
            "bob : YES\n",
            "naruto : NO\n"
          ],
          "name": "stdout"
        }
      ]
    },
    {
      "cell_type": "code",
      "metadata": {
        "colab": {
          "base_uri": "https://localhost:8080/"
        },
        "id": "wLRHkJ338hCT",
        "outputId": "b1021f8e-4cac-482c-87e0-3446a3e7d56d"
      },
      "source": [
        "import random\n",
        " \n",
        "def primenum(listran):\n",
        "  for x in listran:\n",
        "    #prime number greater than 1\n",
        "    if x>1:\n",
        "      for i in range(2,x):\n",
        "        if(x%i)==0:\n",
        "          print(x,\"is not a prime number\")\n",
        "          break\n",
        "      else:\n",
        "       print(x,\"is a prime number\")\n",
        "    #1 or less than 1\n",
        "    else:\n",
        "      print(x,\"is not a prime number\")\n",
        "#main\n",
        "ranlist=[]\n",
        "for i in range(0,20):\n",
        "  n = random.randint(0,100)\n",
        "  #n = random.random()\n",
        "  ranlist.append(n)\n",
        " \n",
        "primenum(ranlist)"
      ],
      "execution_count": 2,
      "outputs": [
        {
          "output_type": "stream",
          "text": [
            "50 is not a prime number\n",
            "40 is not a prime number\n",
            "69 is not a prime number\n",
            "62 is not a prime number\n",
            "30 is not a prime number\n",
            "62 is not a prime number\n",
            "93 is not a prime number\n",
            "51 is not a prime number\n",
            "49 is not a prime number\n",
            "8 is not a prime number\n",
            "77 is not a prime number\n",
            "97 is a prime number\n",
            "5 is a prime number\n",
            "12 is not a prime number\n",
            "65 is not a prime number\n",
            "92 is not a prime number\n",
            "94 is not a prime number\n",
            "58 is not a prime number\n",
            "33 is not a prime number\n",
            "32 is not a prime number\n"
          ],
          "name": "stdout"
        }
      ]
    },
    {
      "cell_type": "code",
      "metadata": {
        "colab": {
          "base_uri": "https://localhost:8080/"
        },
        "id": "hDyHuFNZ8xZx",
        "outputId": "8c45e483-1767-4deb-c452-62d237190f85"
      },
      "source": [
        "def checkcase(strinput):\n",
        "  \n",
        "  for words in strinput:\n",
        "    upper=0\n",
        "    lower=0\n",
        "\n",
        "    for x in words:\n",
        "      if (x.islower()):\n",
        "        lower=lower+1\n",
        "      elif (x.isupper()):\n",
        "        upper=upper+1\n",
        "\n",
        "    print(words,\":\")\n",
        "    print(\"The lower case letters:\", lower)\n",
        "    print(\"The upper case letters:\", upper)\n",
        "\n",
        "list1=[\"The quick Brow Fox\",\"memalascjdcyernctdreamseventeen\"]\n",
        "checkcase(list1)"
      ],
      "execution_count": 9,
      "outputs": [
        {
          "output_type": "stream",
          "text": [
            "The quick Brow Fox :\n",
            "The lower case letters: 12\n",
            "The upper case letters: 3\n",
            "memalascjdcyernctdreamseventeen :\n",
            "The lower case letters: 31\n",
            "The upper case letters: 0\n"
          ],
          "name": "stdout"
        }
      ]
    },
    {
      "cell_type": "code",
      "metadata": {
        "colab": {
          "base_uri": "https://localhost:8080/"
        },
        "id": "w7gu-L8O8y8L",
        "outputId": "9c3d3ee5-1a91-4179-9059-71eebaeaa069"
      },
      "source": [
        "import re\n",
        "txt = \"The quick brown fox jumps over the lazy dog.\"\n",
        "print(re.findall(r\"\\b\\w{5}\\b\", txt))"
      ],
      "execution_count": 18,
      "outputs": [
        {
          "output_type": "stream",
          "text": [
            "['quick', 'brown', 'jumps']\n"
          ],
          "name": "stdout"
        }
      ]
    },
    {
      "cell_type": "code",
      "metadata": {
        "colab": {
          "base_uri": "https://localhost:8080/"
        },
        "id": "QoBXY_wUCM8X",
        "outputId": "42b376a7-90c9-41fb-e04d-82e64128b8cf"
      },
      "source": [
        "import re\n",
        "\n",
        "txt = \"Microsoft Corp. today announced its “Bersama Malaysia” (Together with Malaysia) initiative, which marks a significant commitment to empowering Malaysia’s inclusive digital economy and advancing the nation’s digital transformation across the private and public sectors. As part of the plan, Microsoft will establish its first datacenter region in the country to deliver trusted cloud services locally, with world-class data security, privacy, and the ability to store data in-country. Microsoft also announced plans to skill an additional 1 million Malaysians by end of 2023 to help create economic opportunities for people and businesses in the digital era.\"\n",
        "\n",
        "#store all results in a list \n",
        "list=re.findall(r\"\\b[aAeE]\\w+\", txt)\n",
        "#store result into 3 different list accordingly\n",
        "list1=re.findall(r\"\\b[A-Za-z-]{3}\\b\", txt)\n",
        "list2=re.findall(r\"\\b[A-Za-z-]{4}\\b\", txt)\n",
        "list3=re.findall(r\"\\b[A-Za-z-]{5}\\b\", txt)\n",
        "\n",
        "#print all result store in list\n",
        "print(\"Words start with a or e :\", list)\n",
        "#print result into 3 different list accordingly\n",
        "print(\"Three characters long :\", list1)\n",
        "print(\"Four character long :\", list2)\n",
        "print(\"Five character long :\", list3)\n",
        "\n"
      ],
      "execution_count": 16,
      "outputs": [
        {
          "output_type": "stream",
          "text": [
            "Words start with a or e : ['announced', 'empowering', 'economy', 'and', 'advancing', 'across', 'and', 'As', 'establish', 'and', 'ability', 'also', 'announced', 'an', 'additional', 'end', 'economic', 'and', 'era']\n",
            "Three characters long : ['its', 'and', 'the', 'the', 'and', 'the', 'its', 'the', 'and', 'the', 'in-', 'end', 'for', 'and', 'the', 'era']\n",
            "Four character long : ['Corp', 'with', 'part', 'plan', 'will', 'with', 'data', 'data', 'also', 'help']\n",
            "Five character long : ['today', 'which', 'marks', 'first', 'cloud', 'world', 'class', 'store', 'plans', 'skill']\n"
          ],
          "name": "stdout"
        }
      ]
    }
  ]
}